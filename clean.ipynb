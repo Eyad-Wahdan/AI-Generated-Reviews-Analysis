{
 "cells": [
  {
   "cell_type": "code",
   "execution_count": 1,
   "metadata": {},
   "outputs": [
    {
     "name": "stderr",
     "output_type": "stream",
     "text": [
      "/home/mike/.pyenv/versions/3.10.0/lib/python3.10/site-packages/tqdm/auto.py:21: TqdmWarning: IProgress not found. Please update jupyter and ipywidgets. See https://ipywidgets.readthedocs.io/en/stable/user_install.html\n",
      "  from .autonotebook import tqdm as notebook_tqdm\n"
     ]
    }
   ],
   "source": [
    "import pandas as pd\n",
    "import transformers\n",
    "import torch\n",
    "import langdetect\n",
    "import csv\n",
    "\n",
    "def is_english(text):\n",
    "    try:\n",
    "        return langdetect.detect(text) == 'en'\n",
    "    except:\n",
    "        return False"
   ]
  },
  {
   "cell_type": "code",
   "execution_count": 2,
   "metadata": {},
   "outputs": [
    {
     "name": "stderr",
     "output_type": "stream",
     "text": [
      "/home/mike/.pyenv/versions/3.10.0/lib/python3.10/site-packages/huggingface_hub/file_download.py:795: FutureWarning: `resume_download` is deprecated and will be removed in version 1.0.0. Downloads always resume when possible. If you want to force a new download, use `force_download=True`.\n",
      "  warnings.warn(\n",
      "/home/mike/.pyenv/versions/3.10.0/lib/python3.10/site-packages/huggingface_hub/file_download.py:795: FutureWarning: `resume_download` is deprecated and will be removed in version 1.0.0. Downloads always resume when possible. If you want to force a new download, use `force_download=True`.\n",
      "  warnings.warn(\n"
     ]
    }
   ],
   "source": [
    "device = torch.device(\"cuda\" if torch.cuda.is_available() else \"cpu\")\n",
    "\n",
    "detector = transformers.AutoModelForSequenceClassification.from_pretrained(\"TrustSafeAI/RADAR-Vicuna-7B\")\n",
    "tokenizer = transformers.AutoTokenizer.from_pretrained(\"TrustSafeAI/RADAR-Vicuna-7B\")"
   ]
  },
  {
   "cell_type": "code",
   "execution_count": 3,
   "metadata": {},
   "outputs": [
    {
     "name": "stdout",
     "output_type": "stream",
     "text": [
      "   Unnamed: 0  rating                                              title  \\\n",
      "0      396515       5                                        Great value   \n",
      "1       81143       5  Even on a older (2009) \"big box mart\" computer...   \n",
      "2      931887       3  Nice universal mounting tech, decent keyboard,...   \n",
      "3      102316       5  Amazing value, beast of a gaming machine, grea...   \n",
      "4      778733       5  Great remote, great iOS app - with note re App...   \n",
      "\n",
      "                                                text  \\\n",
      "0  I've used several zip tie guns at work. I trie...   \n",
      "1  First off lets look what I'm using this in:  A...   \n",
      "2  So the good news is that, unlike several other...   \n",
      "3  I play too much Rocket League. I started on PS...   \n",
      "4  Setup:  Samsung 55&quot; Smart TV (I don't usi...   \n",
      "\n",
      "                                              images        asin parent_asin  \\\n",
      "0  [{'small_image_url': 'https://images-na.ssl-im...  B004YK60YC  B004YK60YC   \n",
      "1                                                 []  B01MG0733A  B01MSNCDTA   \n",
      "2                                                 []  B06XJ6ZGZK  B06XJ6ZGZK   \n",
      "3                                                 []  B01MT0792S  B01N6QV8Z6   \n",
      "4                                                 []  B00N3RFC4G  B00O4RRHP6   \n",
      "\n",
      "                        user_id                timestamp  helpful_vote  \\\n",
      "0  AF5LDKPQP7KBHCD2JUDSC23SJS7Q  2017-08-07 18:49:13.197             5   \n",
      "1  AFLAWWHQ2AV77ZWGY4VFQYDNI7ZQ  2017-11-29 03:52:34.050            12   \n",
      "2  AHPJHWUFX7DFIVS5B3XNEK7JLSAQ  2017-05-28 17:30:06.000             0   \n",
      "3  AG2PBIU3PQUQ3DZD46UDTRJNWZGA  2017-07-13 16:14:30.032             0   \n",
      "4  AFRQNK6EOGNRKXPY5OEVVVN6P5GQ  2017-06-28 17:34:14.591             0   \n",
      "\n",
      "   verified_purchase  token_count  \n",
      "0               True          512  \n",
      "1               True          512  \n",
      "2              False          512  \n",
      "3              False          512  \n",
      "4               True          512  \n"
     ]
    }
   ],
   "source": [
    "df = pd.read_csv('2017-sample-long.csv')\n",
    "\n",
    "print(df.head())"
   ]
  },
  {
   "cell_type": "code",
   "execution_count": 4,
   "metadata": {},
   "outputs": [],
   "source": [
    "# replace all <br> and <br /> with \\n\n",
    "df['text'] = df['text'].str.replace(r'<br />', '\\\\n')"
   ]
  },
  {
   "cell_type": "code",
   "execution_count": 5,
   "metadata": {},
   "outputs": [],
   "source": [
    "# remove all html tags\n",
    "df['text'] = df['text'].str.replace(r'<[^>]*>', '')"
   ]
  },
  {
   "cell_type": "code",
   "execution_count": 6,
   "metadata": {},
   "outputs": [],
   "source": [
    "df.to_csv('2017-sample-long-cleaned.csv', index=False, quotechar='\"', quoting=csv.QUOTE_ALL, escapechar='\\\\', lineterminator='\\n')"
   ]
  },
  {
   "cell_type": "code",
   "execution_count": null,
   "metadata": {},
   "outputs": [],
   "source": [
    "df"
   ]
  }
 ],
 "metadata": {
  "kernelspec": {
   "display_name": "Python 3",
   "language": "python",
   "name": "python3"
  },
  "language_info": {
   "codemirror_mode": {
    "name": "ipython",
    "version": 3
   },
   "file_extension": ".py",
   "mimetype": "text/x-python",
   "name": "python",
   "nbconvert_exporter": "python",
   "pygments_lexer": "ipython3",
   "version": "3.10.0"
  }
 },
 "nbformat": 4,
 "nbformat_minor": 2
}
