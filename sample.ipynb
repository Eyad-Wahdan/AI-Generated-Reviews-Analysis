{
 "cells": [
  {
   "cell_type": "code",
   "execution_count": 3,
   "metadata": {},
   "outputs": [],
   "source": [
    "import pandas as pd\n",
    "import transformers\n",
    "import torch\n",
    "import langdetect\n",
    "\n",
    "def is_english(text):\n",
    "    try:\n",
    "        return langdetect.detect(text) == 'en'\n",
    "    except:\n",
    "        return False"
   ]
  },
  {
   "cell_type": "code",
   "execution_count": 4,
   "metadata": {},
   "outputs": [
    {
     "name": "stderr",
     "output_type": "stream",
     "text": [
      "/home/mike/.pyenv/versions/3.10.0/lib/python3.10/site-packages/huggingface_hub/file_download.py:795: FutureWarning: `resume_download` is deprecated and will be removed in version 1.0.0. Downloads always resume when possible. If you want to force a new download, use `force_download=True`.\n",
      "  warnings.warn(\n",
      "/home/mike/.pyenv/versions/3.10.0/lib/python3.10/site-packages/huggingface_hub/file_download.py:795: FutureWarning: `resume_download` is deprecated and will be removed in version 1.0.0. Downloads always resume when possible. If you want to force a new download, use `force_download=True`.\n",
      "  warnings.warn(\n"
     ]
    }
   ],
   "source": [
    "device = torch.device(\"cuda\" if torch.cuda.is_available() else \"cpu\")\n",
    "\n",
    "detector = transformers.AutoModelForSequenceClassification.from_pretrained(\"TrustSafeAI/RADAR-Vicuna-7B\")\n",
    "tokenizer = transformers.AutoTokenizer.from_pretrained(\"TrustSafeAI/RADAR-Vicuna-7B\")"
   ]
  },
  {
   "cell_type": "code",
   "execution_count": 5,
   "metadata": {},
   "outputs": [
    {
     "name": "stdout",
     "output_type": "stream",
     "text": [
      "   Unnamed: 0  rating                                         title  \\\n",
      "0          18       5                                    Five Stars   \n",
      "1          19       4                                    Four Stars   \n",
      "2          25       5                       Nice lightweight sleeve   \n",
      "3          27       4  Did anyone use this for a recessed TV mount?   \n",
      "4         145       5                                     Wonderful   \n",
      "\n",
      "                                                text images        asin  \\\n",
      "0       great product. high quality. fits perfectly.     []  B01LQF8B7G   \n",
      "1           Pretty cool!!!<br /><br />Thanks Amazon.     []  B00ZV9RDKK   \n",
      "2  I am not sure how much protection this provide...     []  B01976K5B6   \n",
      "3  I believe the electrical boxes are made especi...     []  B001PL3XJS   \n",
      "4  Takes beautiful pictures and easy to use. Came...     []  B01D0PVYH4   \n",
      "\n",
      "  parent_asin                       user_id                timestamp  \\\n",
      "0  B01LQF8B7G  AGKHLEW2SOWHNMFQIJGBECAF7INQ  2017-02-05 18:47:59.000   \n",
      "1  B075X8471B  AEM663T6XHZFWLODF4US2RCOCUSA  2017-10-31 23:07:42.120   \n",
      "2  B08P3VMW76  AGBFYI2DDIKXC5Y4FARTYDTQBMFQ  2017-01-02 03:24:55.000   \n",
      "3  B0862W5BQ8  AEVWAM3YWN5URJVJIZZ6XPD2MKIA  2017-01-15 12:00:15.000   \n",
      "4  B01D0PVYH4  AHXBL3QDWZGJYH7A5CMPFNUPMF7Q  2017-08-12 00:27:40.099   \n",
      "\n",
      "   helpful_vote  verified_purchase  \n",
      "0             0               True  \n",
      "1             0               True  \n",
      "2             0               True  \n",
      "3             0              False  \n",
      "4             4               True  \n"
     ]
    }
   ],
   "source": [
    "df = pd.read_csv('2017.csv')\n",
    "\n",
    "print(df.head())"
   ]
  },
  {
   "cell_type": "code",
   "execution_count": 6,
   "metadata": {},
   "outputs": [],
   "source": [
    "# get random sample of 1000 rows\n",
    "\n",
    "max_length = 512\n",
    "\n",
    "# filter out rows where 'text' column is empty or not a string\n",
    "\n",
    "df = df[df['text'].apply(lambda x: isinstance(x, str) and len(x) > 0)]"
   ]
  },
  {
   "cell_type": "code",
   "execution_count": 7,
   "metadata": {},
   "outputs": [],
   "source": [
    "df['token_count'] = df['text'].apply(lambda x: len(tokenizer(x, truncation=False)['input_ids']))"
   ]
  },
  {
   "cell_type": "code",
   "execution_count": 8,
   "metadata": {},
   "outputs": [
    {
     "name": "stdout",
     "output_type": "stream",
     "text": [
      "3022630\n"
     ]
    }
   ],
   "source": [
    "# filter out rows where 'text' column is longer than max_length\n",
    "\n",
    "df = df[df['token_count'] <= max_length]\n",
    "\n",
    "# filter out rows where 'text' column is not in English\n",
    "print(len(df))"
   ]
  },
  {
   "cell_type": "code",
   "execution_count": 9,
   "metadata": {},
   "outputs": [],
   "source": [
    "# sort dataframe descending by 'token_count' column\n",
    "df = df.sort_values(by='token_count', ascending=False)"
   ]
  },
  {
   "cell_type": "code",
   "execution_count": 10,
   "metadata": {},
   "outputs": [
    {
     "name": "stdout",
     "output_type": "stream",
     "text": [
      "20000\n"
     ]
    }
   ],
   "source": [
    "df = df.head(20_000)\n",
    "print(len(df))"
   ]
  },
  {
   "cell_type": "code",
   "execution_count": 11,
   "metadata": {},
   "outputs": [
    {
     "name": "stdout",
     "output_type": "stream",
     "text": [
      "19998\n"
     ]
    }
   ],
   "source": [
    "df_is_english = df[df['text'].apply(lambda x: is_english(x))]\n",
    "print(len(df_is_english))"
   ]
  },
  {
   "cell_type": "code",
   "execution_count": 12,
   "metadata": {},
   "outputs": [
    {
     "name": "stdout",
     "output_type": "stream",
     "text": [
      "         Unnamed: 0  rating  \\\n",
      "602598       396515       5   \n",
      "1931583       81143       5   \n",
      "1198976      931887       3   \n",
      "576155       102316       5   \n",
      "2424542      778733       5   \n",
      "\n",
      "                                                     title  \\\n",
      "602598                                         Great value   \n",
      "1931583  Even on a older (2009) \"big box mart\" computer...   \n",
      "1198976  Nice universal mounting tech, decent keyboard,...   \n",
      "576155   Amazing value, beast of a gaming machine, grea...   \n",
      "2424542  Great remote, great iOS app - with note re App...   \n",
      "\n",
      "                                                      text  \\\n",
      "602598   I've used several zip tie guns at work. I trie...   \n",
      "1931583  First off lets look what I'm using this in:  A...   \n",
      "1198976  So the good news is that, unlike several other...   \n",
      "576155   I play too much Rocket League. I started on PS...   \n",
      "2424542  Setup:  Samsung 55&quot; Smart TV (I don't usi...   \n",
      "\n",
      "                                                    images        asin  \\\n",
      "602598   [{'small_image_url': 'https://images-na.ssl-im...  B004YK60YC   \n",
      "1931583                                                 []  B01MG0733A   \n",
      "1198976                                                 []  B06XJ6ZGZK   \n",
      "576155                                                  []  B01MT0792S   \n",
      "2424542                                                 []  B00N3RFC4G   \n",
      "\n",
      "        parent_asin                       user_id                timestamp  \\\n",
      "602598   B004YK60YC  AF5LDKPQP7KBHCD2JUDSC23SJS7Q  2017-08-07 18:49:13.197   \n",
      "1931583  B01MSNCDTA  AFLAWWHQ2AV77ZWGY4VFQYDNI7ZQ  2017-11-29 03:52:34.050   \n",
      "1198976  B06XJ6ZGZK  AHPJHWUFX7DFIVS5B3XNEK7JLSAQ  2017-05-28 17:30:06.000   \n",
      "576155   B01N6QV8Z6  AG2PBIU3PQUQ3DZD46UDTRJNWZGA  2017-07-13 16:14:30.032   \n",
      "2424542  B00O4RRHP6  AFRQNK6EOGNRKXPY5OEVVVN6P5GQ  2017-06-28 17:34:14.591   \n",
      "\n",
      "         helpful_vote  verified_purchase  token_count  \n",
      "602598              5               True          512  \n",
      "1931583            12               True          512  \n",
      "1198976             0              False          512  \n",
      "576155              0              False          512  \n",
      "2424542             0               True          512  \n"
     ]
    }
   ],
   "source": [
    "df = df.head(1_000)\n",
    "print(df.head())"
   ]
  },
  {
   "cell_type": "code",
   "execution_count": 13,
   "metadata": {},
   "outputs": [],
   "source": [
    "df.to_csv('2017-sample-long.csv', index=False)"
   ]
  }
 ],
 "metadata": {
  "kernelspec": {
   "display_name": "Python 3",
   "language": "python",
   "name": "python3"
  },
  "language_info": {
   "codemirror_mode": {
    "name": "ipython",
    "version": 3
   },
   "file_extension": ".py",
   "mimetype": "text/x-python",
   "name": "python",
   "nbconvert_exporter": "python",
   "pygments_lexer": "ipython3",
   "version": "3.10.0"
  }
 },
 "nbformat": 4,
 "nbformat_minor": 2
}
